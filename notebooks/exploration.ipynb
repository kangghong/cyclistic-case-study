{
 "cells": [
  {
   "cell_type": "markdown",
   "metadata": {},
   "source": [
    "### Core analysis comparing behaviours (eg. trip length, day-of-week patterns, start/end stations heatmaps)"
   ]
  },
  {
   "cell_type": "code",
   "execution_count": 1,
   "metadata": {},
   "outputs": [],
   "source": [
    "import pandas as pd\n",
    "import matplotlib.pyplot as plt\n",
    "import seaborn as sns\n",
    "import sys"
   ]
  },
  {
   "cell_type": "code",
   "execution_count": null,
   "metadata": {},
   "outputs": [],
   "source": [
    "sys.path.append('/Users/kanghong/Documents/Developer/Google-Capstone/cyclist-case-study/src/')\n",
    "\n",
    "from trip_analysis import season_match, filter_unfeasible_rides, \n",
    "from data_viz import generate_prop_plot, generate_pie, generate_hist_plot, generate_stack_hist\n",
    "from data_cleaning import time_to_minutes, extract_hour, extract_month"
   ]
  },
  {
   "cell_type": "code",
   "execution_count": null,
   "metadata": {},
   "outputs": [],
   "source": [
    "cyclistic_data = pd.read_csv('/Users/kanghong/Documents/Developer/Google-Capstone/cyclist-case-study/data/processed/cyclistic_data_cleaned.csv')\n",
    "\n",
    "cyclistic_data.head()"
   ]
  },
  {
   "cell_type": "code",
   "execution_count": null,
   "metadata": {},
   "outputs": [],
   "source": [
    "cyclistic_data['membership_status'].value_counts()"
   ]
  },
  {
   "cell_type": "code",
   "execution_count": null,
   "metadata": {},
   "outputs": [],
   "source": [
    "generate_pie(cyclistic_data, 'membership_status')\n"
   ]
  },
  {
   "cell_type": "code",
   "execution_count": null,
   "metadata": {},
   "outputs": [],
   "source": [
    "generate_pie(cyclistic_data, 'rideable_type')\n"
   ]
  },
  {
   "cell_type": "code",
   "execution_count": null,
   "metadata": {},
   "outputs": [],
   "source": [
    "'''casual_cyclistic_data = cyclistic_data.loc[cyclistic_data['membership_status'] == 'casual']\n",
    "member_cyclistic_data = cyclistic_data.loc[cyclistic_data['membership_status'] == 'member']'''"
   ]
  },
  {
   "cell_type": "markdown",
   "metadata": {},
   "source": [
    "#### Compare rideables, ride length and ride distance"
   ]
  },
  {
   "cell_type": "code",
   "execution_count": null,
   "metadata": {},
   "outputs": [],
   "source": [
    "cyclistic_data['rideable_type'].value_counts()"
   ]
  },
  {
   "cell_type": "code",
   "execution_count": 108,
   "metadata": {},
   "outputs": [],
   "source": [
    "cyclistic_data['ride_length(min)'] = cyclistic_data['ride_length'].apply(time_to_minutes)"
   ]
  },
  {
   "cell_type": "code",
   "execution_count": 7,
   "metadata": {},
   "outputs": [],
   "source": [
    "cyclistic_data = filter_unfeasible_rides(cyclistic_data)"
   ]
  },
  {
   "cell_type": "code",
   "execution_count": null,
   "metadata": {},
   "outputs": [],
   "source": [
    "generate_stack_hist(cyclistic_data, 'membership_status', 'rideable_type')"
   ]
  },
  {
   "cell_type": "code",
   "execution_count": null,
   "metadata": {},
   "outputs": [],
   "source": [
    "sns.boxplot(x='membership_status', y='ride_length(min)', data=cyclistic_data, palette='viridis')\n",
    "\n",
    "# Customize the plot\n",
    "plt.title('Categorized Box Plot')\n",
    "plt.xlabel('Category')\n",
    "plt.ylabel('Value')\n",
    "\n",
    "# Show the plot\n",
    "plt.show()"
   ]
  },
  {
   "cell_type": "code",
   "execution_count": null,
   "metadata": {},
   "outputs": [],
   "source": [
    "sns.kdeplot(data=cyclistic_data, x='ride_length(min)', hue='membership_status', palette='viridis', fill=True, common_norm=False)\n",
    "\n",
    "# Customize the plot\n",
    "plt.title('Distribution Curve by Category')\n",
    "plt.xlabel('Value')\n",
    "plt.ylabel('Density')\n",
    "\n",
    "# Show the plot\n",
    "plt.show()"
   ]
  },
  {
   "cell_type": "code",
   "execution_count": null,
   "metadata": {},
   "outputs": [],
   "source": [
    "sns.kdeplot(data=cyclistic_data, x='ride_distance(km)', hue='membership_status', palette='viridis', fill=True, common_norm=False)\n",
    "\n",
    "# Customize the plot\n",
    "plt.title('Distribution Curve by Category')\n",
    "plt.xlabel('Value')\n",
    "plt.ylabel('Density')\n",
    "\n",
    "# Show the plot\n",
    "plt.show()"
   ]
  },
  {
   "cell_type": "code",
   "execution_count": null,
   "metadata": {},
   "outputs": [],
   "source": [
    "sns.violinplot(x='membership_status', y='ride_length(min)', data=cyclistic_data, palette='viridis')\n",
    "\n",
    "# Customize the plot\n",
    "plt.title('Violin Plot of Ride Length by Category')\n",
    "plt.xlabel('Category')\n",
    "plt.ylabel('Ride Length')\n",
    "\n",
    "# Show the plot\n",
    "plt.show()"
   ]
  },
  {
   "cell_type": "markdown",
   "metadata": {},
   "source": [
    "### Compare days of riding"
   ]
  },
  {
   "cell_type": "markdown",
   "metadata": {},
   "source": [
    "##### Members ride more throughout the week, casuals ride more on the weekends"
   ]
  },
  {
   "cell_type": "code",
   "execution_count": null,
   "metadata": {},
   "outputs": [],
   "source": [
    "generate_hist_plot(cyclistic_data, 'membership_status', 'start_day')"
   ]
  },
  {
   "cell_type": "markdown",
   "metadata": {},
   "source": [
    "#### Casual rides longer than members, especially on the weekends"
   ]
  },
  {
   "cell_type": "code",
   "execution_count": null,
   "metadata": {},
   "outputs": [],
   "source": [
    "\n",
    "pivot_table = cyclistic_data.pivot_table(\n",
    "    values='ride_length(min)', \n",
    "    index='membership_status', \n",
    "    columns='start_day', \n",
    "    aggfunc='median')\n",
    "\n",
    "\n",
    "print(pivot_table)\n"
   ]
  },
  {
   "cell_type": "code",
   "execution_count": null,
   "metadata": {},
   "outputs": [],
   "source": [
    "pivot_table.plot(kind='bar', figsize=(10, 6))\n",
    "\n",
    "# Customize the plot\n",
    "plt.title('Average Ride Length by Day of Week and Membership Status')\n",
    "plt.xlabel('Day of Week')\n",
    "plt.ylabel('Average Ride Length (minutes)')\n",
    "plt.legend(title='Membership Status')\n",
    "\n",
    "# Show the plot\n",
    "plt.show()"
   ]
  },
  {
   "cell_type": "code",
   "execution_count": 127,
   "metadata": {},
   "outputs": [
    {
     "ename": "NameError",
     "evalue": "name 'generate_stack_hist' is not defined",
     "output_type": "error",
     "traceback": [
      "\u001b[31m---------------------------------------------------------------------------\u001b[39m",
      "\u001b[31mNameError\u001b[39m                                 Traceback (most recent call last)",
      "\u001b[36mCell\u001b[39m\u001b[36m \u001b[39m\u001b[32mIn[127]\u001b[39m\u001b[32m, line 1\u001b[39m\n\u001b[32m----> \u001b[39m\u001b[32m1\u001b[39m \u001b[43mgenerate_stack_hist\u001b[49m(cyclistic_data, \u001b[33m'\u001b[39m\u001b[33mmembership_status\u001b[39m\u001b[33m'\u001b[39m, \u001b[33m'\u001b[39m\u001b[33mride_length(min)\u001b[39m\u001b[33m'\u001b[39m)\n",
      "\u001b[31mNameError\u001b[39m: name 'generate_stack_hist' is not defined"
     ]
    }
   ],
   "source": [
    "generate_stack_hist(cyclistic_data, 'membership_status', 'ride_length(min)')"
   ]
  },
  {
   "cell_type": "markdown",
   "metadata": {},
   "source": [
    "### Number of rides for users by day"
   ]
  },
  {
   "cell_type": "code",
   "execution_count": null,
   "metadata": {},
   "outputs": [],
   "source": [
    "pivot_table = cyclistic_data.pivot_table(\n",
    "    index='start_day', \n",
    "    columns='membership_status', \n",
    "    aggfunc='size')\n",
    "\n",
    "\n",
    "print(pivot_table)"
   ]
  },
  {
   "cell_type": "markdown",
   "metadata": {},
   "source": [
    "##### Members ride more frequently compared to members"
   ]
  },
  {
   "cell_type": "code",
   "execution_count": null,
   "metadata": {},
   "outputs": [],
   "source": [
    "pivot_table.plot(kind='bar', figsize=(10, 6))\n",
    "\n",
    "# Customize the plot\n",
    "plt.title('No.of Rides by Day of Week and Membership Status')\n",
    "plt.xlabel('Day of Week')\n",
    "plt.ylabel('No. of Rides')\n",
    "plt.legend(title='Membership Status')\n",
    "\n",
    "# Show the plot\n",
    "plt.show()"
   ]
  },
  {
   "cell_type": "code",
   "execution_count": null,
   "metadata": {},
   "outputs": [],
   "source": [
    "'''\n",
    "map_center = [cyclistic_data['start_lat'].mean(), cyclistic_data['start_lng'].mean()]\n",
    "mymap = folium.Map(location=map_center, zoom_start=2)\n",
    "\n",
    "# Add markers for each location\n",
    "for _, row in cyclistic_data.iterrows():\n",
    "    folium.Marker([row['start_lat'], row['start_lng']]).add_to(mymap)\n",
    "\n",
    "# Save the map to an HTML file\n",
    "mymap.save('testmap.html')\n",
    "'''"
   ]
  },
  {
   "cell_type": "markdown",
   "metadata": {},
   "source": [
    "### Explore seasonal trends, holidays\n"
   ]
  },
  {
   "cell_type": "code",
   "execution_count": null,
   "metadata": {},
   "outputs": [],
   "source": [
    "cyclistic_data.shape"
   ]
  },
  {
   "cell_type": "code",
   "execution_count": null,
   "metadata": {},
   "outputs": [],
   "source": [
    "'''sampled_data = cyclistic_data.sample(frac=0.01)\n",
    "sampled_data.shape'''\n"
   ]
  },
  {
   "cell_type": "code",
   "execution_count": null,
   "metadata": {},
   "outputs": [],
   "source": [
    "'''import geopandas as gpd\n",
    "\n",
    "gdf = gpd.GeoDataFrame(sampled_data, geometry=gpd.points_from_xy(sampled_data.start_lng, sampled_data.start_lat))'''"
   ]
  },
  {
   "cell_type": "code",
   "execution_count": null,
   "metadata": {},
   "outputs": [],
   "source": [
    "'''from sklearn.cluster import KMeans\n",
    "\n",
    "kmeans = KMeans(n_clusters=5)\n",
    "gdf['cluster'] = kmeans.fit_predict(gdf[['start_lat', 'start_lng']])'''"
   ]
  },
  {
   "cell_type": "code",
   "execution_count": null,
   "metadata": {},
   "outputs": [],
   "source": [
    "'''from folium.plugins import HeatMap\n",
    "\n",
    "map_center = [gdf['start_lat'].mean(), gdf['start_lng'].mean()]\n",
    "mymap = folium.Map(location=map_center, zoom_start=12)\n",
    "\n",
    "# Create a heatmap layer\n",
    "heat_data = [[row['start_lat'], row['start_lng']] for _, row in sampled_data.iterrows()]\n",
    "HeatMap(heat_data).add_to(mymap)\n",
    "\n",
    "# Save the map to an HTML file\n",
    "mymap.save('bike-sharing-heatmap.html')'''"
   ]
  },
  {
   "cell_type": "code",
   "execution_count": null,
   "metadata": {},
   "outputs": [],
   "source": [
    "cyclistic_data.head()"
   ]
  },
  {
   "cell_type": "code",
   "execution_count": null,
   "metadata": {},
   "outputs": [],
   "source": [
    "cyclistic_data = extract_month(cyclistic_data)\n",
    "cyclistic_data.head()"
   ]
  },
  {
   "cell_type": "code",
   "execution_count": 30,
   "metadata": {},
   "outputs": [],
   "source": [
    "spring_cyclistic_data = season_match(cyclistic_data, 'spring')\n",
    "summer_cyclistic_data = season_match(cyclistic_data, 'summer')\n",
    "autumn_cyclistic_data = season_match(cyclistic_data, 'autumn')\n",
    "winter_cyclistic_data = season_match(cyclistic_data, 'winter')"
   ]
  },
  {
   "cell_type": "markdown",
   "metadata": {},
   "source": [
    "##### No electric scooters in the spring"
   ]
  },
  {
   "cell_type": "code",
   "execution_count": null,
   "metadata": {},
   "outputs": [],
   "source": [
    "generate_prop_plot(spring_cyclistic_data, 'membership_status', 'rideable_type', 'spring')"
   ]
  },
  {
   "cell_type": "code",
   "execution_count": null,
   "metadata": {},
   "outputs": [],
   "source": [
    "generate_prop_plot(spring_cyclistic_data, 'membership_status', 'start_day', 'spring')"
   ]
  },
  {
   "cell_type": "code",
   "execution_count": null,
   "metadata": {},
   "outputs": [],
   "source": [
    "generate_prop_plot(summer_cyclistic_data, 'membership_status', 'rideable_type', 'summer')"
   ]
  },
  {
   "cell_type": "code",
   "execution_count": null,
   "metadata": {},
   "outputs": [],
   "source": [
    "generate_prop_plot(summer_cyclistic_data, 'membership_status', 'start_day', 'summer')"
   ]
  },
  {
   "cell_type": "markdown",
   "metadata": {},
   "source": [
    "##### Casuals enjoy riding electric scooters in autumn"
   ]
  },
  {
   "cell_type": "code",
   "execution_count": null,
   "metadata": {},
   "outputs": [],
   "source": [
    "generate_prop_plot(autumn_cyclistic_data, 'membership_status', 'rideable_type', 'autumn')"
   ]
  },
  {
   "cell_type": "code",
   "execution_count": null,
   "metadata": {},
   "outputs": [],
   "source": [
    "generate_prop_plot(autumn_cyclistic_data, 'membership_status', 'start_day', 'autumn')"
   ]
  },
  {
   "cell_type": "code",
   "execution_count": null,
   "metadata": {},
   "outputs": [],
   "source": [
    "generate_prop_plot(winter_cyclistic_data, 'membership_status', 'rideable_type', 'winter')"
   ]
  },
  {
   "cell_type": "code",
   "execution_count": null,
   "metadata": {},
   "outputs": [],
   "source": [
    "generate_prop_plot(winter_cyclistic_data, 'membership_status', 'start_day', 'winter')"
   ]
  },
  {
   "cell_type": "markdown",
   "metadata": {},
   "source": [
    "### Explore time of rides, peak hours"
   ]
  },
  {
   "cell_type": "code",
   "execution_count": null,
   "metadata": {},
   "outputs": [],
   "source": [
    "'''Morning Rush Hour\n",
    "Traffic congestion typically builds between 6 a.m. and 9 a.m., with the heaviest delays occurring from 7 a.m. to 9 a.m..\n",
    "Lunch Hour Rush\n",
    "Chicago experiences a midday traffic surge between 1 p.m. and 2 p.m. due to lunch breaks, particularly in the city center.\n",
    "Evening Rush Hour\n",
    "The evening rush extends from 3 p.m. to 7 p.m., peaking between 4 p.m. and 5 p.m..\n",
    "Busiest Days of the Week\n",
    "Fridays: Traffic volumes increase on Fridays, especially in the evenings, as residents and visitors head into the city for events and nightlife.\n",
    "Thursdays: Traffic data indicates that more drivers are on the road on Thursdays, contributing to increased congestion.'''"
   ]
  },
  {
   "cell_type": "code",
   "execution_count": null,
   "metadata": {},
   "outputs": [],
   "source": [
    "cyclistic_data = extract_hour(cyclistic_data)\n",
    "cyclistic_data.head()"
   ]
  },
  {
   "cell_type": "markdown",
   "metadata": {},
   "source": [
    "#### Morning Rush Hour Analysis"
   ]
  },
  {
   "cell_type": "code",
   "execution_count": 41,
   "metadata": {},
   "outputs": [],
   "source": [
    "morning_rush_hours = [7,8,9]\n",
    "morning_rush_data = cyclistic_data.loc[cyclistic_data['start_hour'].isin(morning_rush_hours)]"
   ]
  },
  {
   "cell_type": "markdown",
   "metadata": {},
   "source": [
    "###### Casual riders utilize electric scooters more often in morning rush hours"
   ]
  },
  {
   "cell_type": "code",
   "execution_count": null,
   "metadata": {},
   "outputs": [],
   "source": [
    "generate_prop_plot(morning_rush_data, 'membership_status', 'rideable_type', 'Morning Rush Hours')"
   ]
  },
  {
   "cell_type": "markdown",
   "metadata": {},
   "source": [
    "###### Casual riders ride longer, starting from 09:00"
   ]
  },
  {
   "cell_type": "code",
   "execution_count": null,
   "metadata": {},
   "outputs": [],
   "source": [
    "pivot_table = morning_rush_data.pivot_table(\n",
    "    values='ride_length(min)', \n",
    "    index='membership_status', \n",
    "    columns='start_hour', \n",
    "    aggfunc='median')\n",
    "\n",
    "\n",
    "print(pivot_table)"
   ]
  },
  {
   "cell_type": "code",
   "execution_count": null,
   "metadata": {},
   "outputs": [],
   "source": [
    "pivot_table.plot(kind='bar', figsize=(10, 6))\n",
    "\n",
    "# Customize the plot\n",
    "plt.title('Median Riding Time by Hour of Morning Rush and Membership Status')\n",
    "plt.xlabel('Morning Hour')\n",
    "plt.ylabel('Median Riding Time')\n",
    "plt.legend(title='Membership Status')\n",
    "\n",
    "# Show the plot\n",
    "plt.show()"
   ]
  },
  {
   "cell_type": "markdown",
   "metadata": {},
   "source": [
    "###### No significant difference in riding distances"
   ]
  },
  {
   "cell_type": "code",
   "execution_count": null,
   "metadata": {},
   "outputs": [],
   "source": [
    "pivot_table = morning_rush_data.pivot_table(\n",
    "    values='ride_distance(km)', \n",
    "    index='membership_status', \n",
    "    columns='start_hour', \n",
    "    aggfunc='median')\n",
    "\n",
    "\n",
    "print(pivot_table)"
   ]
  },
  {
   "cell_type": "code",
   "execution_count": null,
   "metadata": {},
   "outputs": [],
   "source": [
    "pivot_table.plot(kind='bar', figsize=(10, 6))\n",
    "\n",
    "# Customize the plot\n",
    "plt.title('Median Riding Distance by Hour of Morning Rush and Membership Status')\n",
    "plt.xlabel('Morning Hour')\n",
    "plt.ylabel('Median Riding Distance(km)')\n",
    "plt.legend(title='Membership Status')\n",
    "\n",
    "# Show the plot\n",
    "plt.show()"
   ]
  },
  {
   "cell_type": "markdown",
   "metadata": {},
   "source": [
    "###### Riders in general, have higher riding frequencies, from 08:00 to 09:00"
   ]
  },
  {
   "cell_type": "code",
   "execution_count": null,
   "metadata": {},
   "outputs": [],
   "source": [
    "generate_prop_plot(morning_rush_data, 'membership_status', 'start_hour', 'Morning Rush Hour')"
   ]
  },
  {
   "cell_type": "markdown",
   "metadata": {},
   "source": [
    "#### Midday Traffic Surge"
   ]
  },
  {
   "cell_type": "code",
   "execution_count": null,
   "metadata": {},
   "outputs": [],
   "source": [
    "midday_rush_hours = [12,13,14]\n",
    "midday_rush_data = cyclistic_data.loc[cyclistic_data['start_hour'].isin(midday_rush_hours)]\n",
    "midday_rush_data.head()"
   ]
  },
  {
   "cell_type": "markdown",
   "metadata": {},
   "source": [
    "###### Casual members tend to utilize electric scooters more often than members do, in midday rush hours"
   ]
  },
  {
   "cell_type": "code",
   "execution_count": null,
   "metadata": {},
   "outputs": [],
   "source": [
    "generate_prop_plot(midday_rush_data, 'membership_status', 'rideable_type', 'Midday Rush Hours')"
   ]
  },
  {
   "cell_type": "markdown",
   "metadata": {},
   "source": [
    "###### Casual riders ride A LOT more longer in the midday hours"
   ]
  },
  {
   "cell_type": "code",
   "execution_count": null,
   "metadata": {},
   "outputs": [],
   "source": [
    "pivot_table = midday_rush_data.pivot_table(\n",
    "    values='ride_length(min)', \n",
    "    index='membership_status', \n",
    "    columns='start_hour', \n",
    "    aggfunc='median')\n",
    "\n",
    "\n",
    "print(pivot_table)"
   ]
  },
  {
   "cell_type": "code",
   "execution_count": null,
   "metadata": {},
   "outputs": [],
   "source": [
    "pivot_table.plot(kind='bar', figsize=(10, 6))\n",
    "\n",
    "# Customize the plot\n",
    "plt.title('Median Riding Time by Hour of Morning Rush and Membership Status')\n",
    "plt.xlabel('Midday Hour')\n",
    "plt.ylabel('Median Riding Time')\n",
    "plt.legend(title='Membership Status')\n",
    "\n",
    "# Show the plot\n",
    "plt.show()"
   ]
  },
  {
   "cell_type": "markdown",
   "metadata": {},
   "source": [
    "###### Casual riders ride for longer distances in the midday"
   ]
  },
  {
   "cell_type": "code",
   "execution_count": null,
   "metadata": {},
   "outputs": [],
   "source": [
    "pivot_table = midday_rush_data.pivot_table(\n",
    "    values='ride_distance(km)', \n",
    "    index='membership_status', \n",
    "    columns='start_hour', \n",
    "    aggfunc='median')\n",
    "\n",
    "\n",
    "print(pivot_table)"
   ]
  },
  {
   "cell_type": "code",
   "execution_count": null,
   "metadata": {},
   "outputs": [],
   "source": [
    "pivot_table.plot(kind='bar', figsize=(10, 6))\n",
    "\n",
    "# Customize the plot\n",
    "plt.title('Median Riding Distance by Hour of Morning Rush and Membership Status')\n",
    "plt.xlabel('Midday Hour')\n",
    "plt.ylabel('Median Riding Distance(km)')\n",
    "plt.legend(title='Membership Status')\n",
    "\n",
    "# Show the plot\n",
    "plt.show()"
   ]
  },
  {
   "cell_type": "markdown",
   "metadata": {},
   "source": [
    "###### No observable difference in riding frequencies in midday"
   ]
  },
  {
   "cell_type": "code",
   "execution_count": null,
   "metadata": {},
   "outputs": [],
   "source": [
    "generate_prop_plot(midday_rush_data, 'membership_status', 'start_hour', 'Midday Rush Hour')"
   ]
  },
  {
   "cell_type": "markdown",
   "metadata": {},
   "source": [
    "#### Evening Rush Hour Analysis"
   ]
  },
  {
   "cell_type": "code",
   "execution_count": null,
   "metadata": {},
   "outputs": [],
   "source": [
    "evening_rush_hours = [16, 17, 18]\n",
    "evening_rush_data = cyclistic_data.loc[cyclistic_data['start_hour'].isin(evening_rush_hours)]\n",
    "evening_rush_data.head()"
   ]
  },
  {
   "cell_type": "markdown",
   "metadata": {},
   "source": [
    "###### Casuals utilize electric scooters more often than members, in evening rush hours"
   ]
  },
  {
   "cell_type": "code",
   "execution_count": null,
   "metadata": {},
   "outputs": [],
   "source": [
    "generate_prop_plot(evening_rush_data, 'membership_status', 'rideable_type', 'Evening Rush Hour')"
   ]
  },
  {
   "cell_type": "markdown",
   "metadata": {},
   "source": [
    "###### Casuals ride A LOT more longer in evening rush hours"
   ]
  },
  {
   "cell_type": "code",
   "execution_count": null,
   "metadata": {},
   "outputs": [],
   "source": [
    "pivot_table = evening_rush_data.pivot_table(\n",
    "    values='ride_length(min)', \n",
    "    index='membership_status', \n",
    "    columns='start_hour', \n",
    "    aggfunc='median')\n",
    "\n",
    "\n",
    "print(pivot_table)"
   ]
  },
  {
   "cell_type": "code",
   "execution_count": null,
   "metadata": {},
   "outputs": [],
   "source": [
    "pivot_table.plot(kind='bar', figsize=(10, 6))\n",
    "\n",
    "# Customize the plot\n",
    "plt.title('Median Riding Time by Hour of Morning Rush and Membership Status')\n",
    "plt.xlabel('Midday Hour')\n",
    "plt.ylabel('Median Riding Time')\n",
    "plt.legend(title='Membership Status')\n",
    "\n",
    "# Show the plot\n",
    "plt.show()"
   ]
  },
  {
   "cell_type": "markdown",
   "metadata": {},
   "source": [
    "###### Ride Distances, no observable differences"
   ]
  },
  {
   "cell_type": "code",
   "execution_count": null,
   "metadata": {},
   "outputs": [],
   "source": [
    "pivot_table = evening_rush_data.pivot_table(\n",
    "    values='ride_distance(km)', \n",
    "    index='membership_status', \n",
    "    columns='start_hour', \n",
    "    aggfunc='median')\n",
    "\n",
    "\n",
    "print(pivot_table)"
   ]
  },
  {
   "cell_type": "code",
   "execution_count": null,
   "metadata": {},
   "outputs": [],
   "source": [
    "pivot_table.plot(kind='bar', figsize=(10, 6))\n",
    "\n",
    "# Customize the plot\n",
    "plt.title('Median Riding Distance by Hour of Morning Rush and Membership Status')\n",
    "plt.xlabel('Midday Hour')\n",
    "plt.ylabel('Median Riding Distance(km)')\n",
    "plt.legend(title='Membership Status')\n",
    "\n",
    "# Show the plot\n",
    "plt.show()"
   ]
  },
  {
   "cell_type": "markdown",
   "metadata": {},
   "source": [
    "###### Casual riders ride most frequently 17:00"
   ]
  },
  {
   "cell_type": "code",
   "execution_count": null,
   "metadata": {},
   "outputs": [],
   "source": [
    "generate_prop_plot(evening_rush_data, 'membership_status', 'start_hour', 'Evening rush hour')"
   ]
  },
  {
   "cell_type": "markdown",
   "metadata": {},
   "source": [
    "#### Busiest Days of the Week (Thursdays and Fridays)"
   ]
  },
  {
   "cell_type": "code",
   "execution_count": null,
   "metadata": {},
   "outputs": [],
   "source": [
    "busyDays = ['Thursday', 'Friday']\n",
    "\n",
    "busy_day_data = cyclistic_data.loc[cyclistic_data['start_day'].isin(busyDays)]\n",
    "busy_day_data.head()"
   ]
  },
  {
   "cell_type": "markdown",
   "metadata": {},
   "source": [
    "###### Compare rideable types"
   ]
  },
  {
   "cell_type": "code",
   "execution_count": null,
   "metadata": {},
   "outputs": [],
   "source": [
    "generate_prop_plot(busy_day_data, 'membership_status', 'rideable_type', 'Busiest days')"
   ]
  },
  {
   "cell_type": "markdown",
   "metadata": {},
   "source": [
    "###### Casual riders ride more on Fridays"
   ]
  },
  {
   "cell_type": "code",
   "execution_count": null,
   "metadata": {},
   "outputs": [],
   "source": [
    "generate_prop_plot(busy_day_data, 'membership_status', 'start_day', 'Busiest days')"
   ]
  },
  {
   "cell_type": "markdown",
   "metadata": {},
   "source": [
    "###### Casuals ride for longer periods on busy days of the week"
   ]
  },
  {
   "cell_type": "code",
   "execution_count": null,
   "metadata": {},
   "outputs": [],
   "source": [
    "pivot_table = busy_day_data.pivot_table(\n",
    "    values='ride_length(min)', \n",
    "    index='membership_status', \n",
    "    columns='start_day', \n",
    "    aggfunc='median')\n",
    "\n",
    "\n",
    "print(pivot_table)"
   ]
  },
  {
   "cell_type": "code",
   "execution_count": null,
   "metadata": {},
   "outputs": [],
   "source": [
    "pivot_table.plot(kind='bar', figsize=(10, 6))\n",
    "\n",
    "# Customize the plot\n",
    "plt.title('Average Ride Length by Day of Week and Membership Status')\n",
    "plt.xlabel('Day of Week')\n",
    "plt.ylabel('Average Ride Length (minutes)')\n",
    "plt.legend(title='Membership Status')\n",
    "\n",
    "# Show the plot\n",
    "plt.show()"
   ]
  },
  {
   "cell_type": "markdown",
   "metadata": {},
   "source": [
    "###### No observable differences in ride distances on busy days of the week"
   ]
  },
  {
   "cell_type": "code",
   "execution_count": null,
   "metadata": {},
   "outputs": [],
   "source": [
    "pivot_table = busy_day_data.pivot_table(\n",
    "    values='ride_distance(km)', \n",
    "    index='membership_status', \n",
    "    columns='start_day', \n",
    "    aggfunc='median')\n",
    "\n",
    "\n",
    "print(pivot_table)"
   ]
  },
  {
   "cell_type": "code",
   "execution_count": null,
   "metadata": {},
   "outputs": [],
   "source": [
    "pivot_table.plot(kind='bar', figsize=(10, 6))\n",
    "\n",
    "# Customize the plot\n",
    "plt.title('Median Ride Distance by Day of Week and Membership Status')\n",
    "plt.xlabel('Day of Week')\n",
    "plt.ylabel('Average Ride Distance (km)')\n",
    "plt.legend(title='Membership Status')\n",
    "\n",
    "# Show the plot\n",
    "plt.show()"
   ]
  },
  {
   "cell_type": "markdown",
   "metadata": {},
   "source": [
    "### Explore monthly trends\n"
   ]
  },
  {
   "cell_type": "code",
   "execution_count": null,
   "metadata": {},
   "outputs": [],
   "source": [
    "cyclistic_data['month'].value_counts()"
   ]
  },
  {
   "cell_type": "markdown",
   "metadata": {},
   "source": [
    "###### General trends"
   ]
  },
  {
   "cell_type": "code",
   "execution_count": null,
   "metadata": {},
   "outputs": [],
   "source": [
    "values = cyclistic_data['month'].value_counts()\n",
    "\n",
    "plt.bar(cyclistic_data['month'].unique(), values, color='skyblue')\n",
    "\n",
    "plt.xticks(values.index, values.index)  \n",
    "\n",
    "# Add titles and labels\n",
    "plt.title('Distribution of Ride Frequency')\n",
    "plt.xlabel('Month')\n",
    "plt.ylabel('Frequency')\n",
    "\n",
    "# Show the plot\n",
    "plt.show()"
   ]
  },
  {
   "cell_type": "markdown",
   "metadata": {},
   "source": [
    "###### Member vs Casual Trend"
   ]
  },
  {
   "cell_type": "code",
   "execution_count": null,
   "metadata": {},
   "outputs": [],
   "source": [
    "pivot_table = cyclistic_data.pivot_table(\n",
    "    index='month', \n",
    "    columns='membership_status', \n",
    "    aggfunc='size')\n",
    "\n",
    "\n",
    "print(pivot_table)"
   ]
  },
  {
   "cell_type": "markdown",
   "metadata": {},
   "source": [
    "###### Grossing periods: June to September"
   ]
  },
  {
   "cell_type": "code",
   "execution_count": null,
   "metadata": {},
   "outputs": [],
   "source": [
    "pivot_table.plot(kind='bar', figsize=(10, 6))\n",
    "\n",
    "# Customize the plot\n",
    "plt.title('No.of Rides by Day of Week and Membership Status')\n",
    "plt.xlabel('Day of Week')\n",
    "plt.ylabel('No. of Rides')\n",
    "plt.legend(title='Membership Status')\n",
    "\n",
    "# Show the plot\n",
    "plt.show()"
   ]
  },
  {
   "cell_type": "code",
   "execution_count": null,
   "metadata": {},
   "outputs": [],
   "source": [
    "cyclistic_data.loc[cyclistic_data['month']== 'January']"
   ]
  },
  {
   "cell_type": "code",
   "execution_count": null,
   "metadata": {},
   "outputs": [],
   "source": [
    "# List of months\n",
    "months = ['January', 'February', 'March', 'April', 'May', 'June', \n",
    "          'July', 'August', 'September', 'October', 'November', 'December']\n",
    "\n",
    "# Create a 3x4 grid of subplots\n",
    "fig, axes = plt.subplots(nrows=3, ncols=4, figsize=(15, 10))\n",
    "axes = axes.flatten()  # Flatten the 2D array of axes to 1D for easier iteration\n",
    "\n",
    "# Create a histogram for each month in a separate subplot\n",
    "for i, month in enumerate(months):\n",
    "    month_data = cyclistic_data[cyclistic_data['month'] == month]\n",
    "    axes[i].hist(month_data['ride_distance(km)'], bins=30, color='skyblue', edgecolor='black')\n",
    "    axes[i].set_title(month)\n",
    "    axes[i].set_xlabel('Ride Distance (km)')\n",
    "    axes[i].set_ylabel('Frequency')\n",
    "\n",
    "# Adjust layout to prevent overlap\n",
    "plt.tight_layout()\n"
   ]
  },
  {
   "cell_type": "code",
   "execution_count": null,
   "metadata": {},
   "outputs": [],
   "source": [
    "fig, axes = plt.subplots(nrows=3, ncols=4, figsize=(15, 10))\n",
    "axes = axes.flatten()  # Flatten the 2D array of axes to 1D for easier iteration\n",
    "\n",
    "# Create a histogram for each month in a separate subplot\n",
    "for i, month in enumerate(months):\n",
    "    month_data = cyclistic_data[cyclistic_data['month'] == month]\n",
    "    axes[i].hist(month_data['ride_length(min)'], bins=30, color='skyblue', edgecolor='black')\n",
    "    axes[i].set_title(month)\n",
    "    axes[i].set_xlabel('Ride Length (min)')\n",
    "    axes[i].set_ylabel('Frequency')\n",
    "\n",
    "# Adjust layout to prevent overlap\n",
    "plt.tight_layout()"
   ]
  },
  {
   "cell_type": "markdown",
   "metadata": {},
   "source": [
    "### Explore hotspots, and geographic clustering"
   ]
  },
  {
   "cell_type": "code",
   "execution_count": 79,
   "metadata": {},
   "outputs": [],
   "source": [
    "from geocode import generate_heatmap\n",
    "\n",
    "casual_cyclistic_data = cyclistic_data.loc[cyclistic_data['membership_status'] == 'casual']\n",
    "\n",
    "generate_heatmap(casual_cyclistic_data, 'Casual')"
   ]
  },
  {
   "cell_type": "code",
   "execution_count": 80,
   "metadata": {},
   "outputs": [],
   "source": [
    "member_cyclistic_data = cyclistic_data.loc[cyclistic_data['membership_status'] == 'member']\n",
    "\n",
    "generate_heatmap(member_cyclistic_data, 'Member')"
   ]
  },
  {
   "cell_type": "code",
   "execution_count": null,
   "metadata": {},
   "outputs": [],
   "source": []
  }
 ],
 "metadata": {
  "kernelspec": {
   "display_name": "googleCapstone-venv",
   "language": "python",
   "name": "python3"
  },
  "language_info": {
   "codemirror_mode": {
    "name": "ipython",
    "version": 3
   },
   "file_extension": ".py",
   "mimetype": "text/x-python",
   "name": "python",
   "nbconvert_exporter": "python",
   "pygments_lexer": "ipython3",
   "version": "3.13.3"
  }
 },
 "nbformat": 4,
 "nbformat_minor": 2
}
