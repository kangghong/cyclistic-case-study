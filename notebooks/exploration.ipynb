{
 "cells": [
  {
   "cell_type": "markdown",
   "metadata": {},
   "source": [
    "# Basic EDA, data distributions, missing value checks, column descriptions"
   ]
  },
  {
   "cell_type": "markdown",
   "metadata": {},
   "source": [
    "## Dependencies"
   ]
  },
  {
   "cell_type": "code",
   "execution_count": 1,
   "metadata": {},
   "outputs": [],
   "source": [
    "import pandas as pd\n",
    "import sys"
   ]
  },
  {
   "cell_type": "code",
   "execution_count": 2,
   "metadata": {},
   "outputs": [],
   "source": [
    "sys.path.append('/Users/kanghong/Documents/Developer/Google-Capstone/cyclist-case-study/src/')\n",
    "\n",
    "from data_cleaning import nullProportions, verifyConcat, format_latlon\n",
    "from geocode import reverse_geocode"
   ]
  },
  {
   "cell_type": "code",
   "execution_count": 3,
   "metadata": {},
   "outputs": [],
   "source": [
    "sys.path.append('/Users/kanghong/Documents/Developer/Google-Capstone/cyclist-case-study/utils/')\n",
    "\n",
    "from file_helpers import load_csvs"
   ]
  },
  {
   "cell_type": "markdown",
   "metadata": {},
   "source": [
    "## Import Datasets"
   ]
  },
  {
   "cell_type": "code",
   "execution_count": 3,
   "metadata": {},
   "outputs": [],
   "source": [
    "may_2024 = pd.read_csv('/Users/kanghong/Documents/Developer/Google-Capstone/cyclist-case-study/data/202405-divvy-tripdata.csv')\n",
    "jun_2024 = pd.read_csv('/Users/kanghong/Documents/Developer/Google-Capstone/cyclist-case-study/data/202406-divvy-tripdata.csv')\n",
    "jul_2024 = pd.read_csv('/Users/kanghong/Documents/Developer/Google-Capstone/cyclist-case-study/data/202407-divvy-tripdata.csv')\n",
    "aug_2024 = pd.read_csv('/Users/kanghong/Documents/Developer/Google-Capstone/cyclist-case-study/data/202408-divvy-tripdata.csv')\n",
    "sep_2024 = pd.read_csv('/Users/kanghong/Documents/Developer/Google-Capstone/cyclist-case-study/data/202409-divvy-tripdata.csv')\n",
    "oct_2024 = pd.read_csv('/Users/kanghong/Documents/Developer/Google-Capstone/cyclist-case-study/data/202410-divvy-tripdata.csv')\n",
    "nov_2024 = pd.read_csv('/Users/kanghong/Documents/Developer/Google-Capstone/cyclist-case-study/data/202411-divvy-tripdata.csv')\n",
    "dec_2024 = pd.read_csv('/Users/kanghong/Documents/Developer/Google-Capstone/cyclist-case-study/data/202412-divvy-tripdata.csv')\n",
    "jan_2025 = pd.read_csv('/Users/kanghong/Documents/Developer/Google-Capstone/cyclist-case-study/data/202501-divvy-tripdata.csv')\n",
    "feb_2025 = pd.read_csv('/Users/kanghong/Documents/Developer/Google-Capstone/cyclist-case-study/data/202502-divvy-tripdata.csv')\n",
    "mar_2025 = pd.read_csv('/Users/kanghong/Documents/Developer/Google-Capstone/cyclist-case-study/data/202503-divvy-tripdata.csv')\n",
    "apr_2025 = pd.read_csv('/Users/kanghong/Documents/Developer/Google-Capstone/cyclist-case-study/data/202504-divvy-tripdata.csv')"
   ]
  },
  {
   "cell_type": "code",
   "execution_count": 4,
   "metadata": {},
   "outputs": [
    {
     "data": {
      "text/html": [
       "<div>\n",
       "<style scoped>\n",
       "    .dataframe tbody tr th:only-of-type {\n",
       "        vertical-align: middle;\n",
       "    }\n",
       "\n",
       "    .dataframe tbody tr th {\n",
       "        vertical-align: top;\n",
       "    }\n",
       "\n",
       "    .dataframe thead th {\n",
       "        text-align: right;\n",
       "    }\n",
       "</style>\n",
       "<table border=\"1\" class=\"dataframe\">\n",
       "  <thead>\n",
       "    <tr style=\"text-align: right;\">\n",
       "      <th></th>\n",
       "      <th>ride_id</th>\n",
       "      <th>rideable_type</th>\n",
       "      <th>started_at</th>\n",
       "      <th>ended_at</th>\n",
       "      <th>start_station_name</th>\n",
       "      <th>start_station_id</th>\n",
       "      <th>end_station_name</th>\n",
       "      <th>end_station_id</th>\n",
       "      <th>start_lat</th>\n",
       "      <th>start_lng</th>\n",
       "      <th>end_lat</th>\n",
       "      <th>end_lng</th>\n",
       "      <th>member_casual</th>\n",
       "    </tr>\n",
       "  </thead>\n",
       "  <tbody>\n",
       "    <tr>\n",
       "      <th>0</th>\n",
       "      <td>AF3863596DF9D94B</td>\n",
       "      <td>classic_bike</td>\n",
       "      <td>2025-04-27 14:29:34.619</td>\n",
       "      <td>2025-04-27 14:36:23.584</td>\n",
       "      <td>Troy St &amp; Elston Ave</td>\n",
       "      <td>15631</td>\n",
       "      <td>Richmond St &amp; Diversey Ave</td>\n",
       "      <td>15645</td>\n",
       "      <td>41.945244</td>\n",
       "      <td>-87.706650</td>\n",
       "      <td>41.931902</td>\n",
       "      <td>-87.701195</td>\n",
       "      <td>member</td>\n",
       "    </tr>\n",
       "    <tr>\n",
       "      <th>1</th>\n",
       "      <td>8B38081EBE918800</td>\n",
       "      <td>electric_bike</td>\n",
       "      <td>2025-04-23 17:48:51.863</td>\n",
       "      <td>2025-04-23 17:59:06.015</td>\n",
       "      <td>Wabash Ave &amp; Adams St</td>\n",
       "      <td>KA1503000015</td>\n",
       "      <td>Green St &amp; Madison St</td>\n",
       "      <td>TA1307000120</td>\n",
       "      <td>41.879472</td>\n",
       "      <td>-87.625689</td>\n",
       "      <td>41.881859</td>\n",
       "      <td>-87.649264</td>\n",
       "      <td>member</td>\n",
       "    </tr>\n",
       "    <tr>\n",
       "      <th>2</th>\n",
       "      <td>1C7F1DE826BBBC8D</td>\n",
       "      <td>electric_bike</td>\n",
       "      <td>2025-04-05 17:55:30.845</td>\n",
       "      <td>2025-04-05 18:05:40.032</td>\n",
       "      <td>Damen Ave &amp; Cortland St</td>\n",
       "      <td>13133</td>\n",
       "      <td>California Ave &amp; Fletcher St</td>\n",
       "      <td>15642</td>\n",
       "      <td>41.915983</td>\n",
       "      <td>-87.677335</td>\n",
       "      <td>41.938429</td>\n",
       "      <td>-87.698008</td>\n",
       "      <td>member</td>\n",
       "    </tr>\n",
       "    <tr>\n",
       "      <th>3</th>\n",
       "      <td>CAD23D69A79A6C3B</td>\n",
       "      <td>classic_bike</td>\n",
       "      <td>2025-04-03 08:22:04.493</td>\n",
       "      <td>2025-04-03 08:32:06.099</td>\n",
       "      <td>Clark St &amp; Elm St</td>\n",
       "      <td>TA1307000039</td>\n",
       "      <td>Orleans St &amp; Merchandise Mart Plaza</td>\n",
       "      <td>TA1305000022</td>\n",
       "      <td>41.902973</td>\n",
       "      <td>-87.631280</td>\n",
       "      <td>41.888243</td>\n",
       "      <td>-87.636390</td>\n",
       "      <td>member</td>\n",
       "    </tr>\n",
       "    <tr>\n",
       "      <th>4</th>\n",
       "      <td>BE241E601482E0AB</td>\n",
       "      <td>electric_bike</td>\n",
       "      <td>2025-04-15 06:09:55.293</td>\n",
       "      <td>2025-04-15 06:19:58.942</td>\n",
       "      <td>Western Ave &amp; Walton St</td>\n",
       "      <td>KA1504000103</td>\n",
       "      <td>Damen Ave &amp; Charleston St</td>\n",
       "      <td>13288</td>\n",
       "      <td>41.898418</td>\n",
       "      <td>-87.686596</td>\n",
       "      <td>41.920082</td>\n",
       "      <td>-87.677855</td>\n",
       "      <td>member</td>\n",
       "    </tr>\n",
       "  </tbody>\n",
       "</table>\n",
       "</div>"
      ],
      "text/plain": [
       "            ride_id  rideable_type               started_at  \\\n",
       "0  AF3863596DF9D94B   classic_bike  2025-04-27 14:29:34.619   \n",
       "1  8B38081EBE918800  electric_bike  2025-04-23 17:48:51.863   \n",
       "2  1C7F1DE826BBBC8D  electric_bike  2025-04-05 17:55:30.845   \n",
       "3  CAD23D69A79A6C3B   classic_bike  2025-04-03 08:22:04.493   \n",
       "4  BE241E601482E0AB  electric_bike  2025-04-15 06:09:55.293   \n",
       "\n",
       "                  ended_at       start_station_name start_station_id  \\\n",
       "0  2025-04-27 14:36:23.584     Troy St & Elston Ave            15631   \n",
       "1  2025-04-23 17:59:06.015    Wabash Ave & Adams St     KA1503000015   \n",
       "2  2025-04-05 18:05:40.032  Damen Ave & Cortland St            13133   \n",
       "3  2025-04-03 08:32:06.099        Clark St & Elm St     TA1307000039   \n",
       "4  2025-04-15 06:19:58.942  Western Ave & Walton St     KA1504000103   \n",
       "\n",
       "                      end_station_name end_station_id  start_lat  start_lng  \\\n",
       "0           Richmond St & Diversey Ave          15645  41.945244 -87.706650   \n",
       "1                Green St & Madison St   TA1307000120  41.879472 -87.625689   \n",
       "2         California Ave & Fletcher St          15642  41.915983 -87.677335   \n",
       "3  Orleans St & Merchandise Mart Plaza   TA1305000022  41.902973 -87.631280   \n",
       "4            Damen Ave & Charleston St          13288  41.898418 -87.686596   \n",
       "\n",
       "     end_lat    end_lng member_casual  \n",
       "0  41.931902 -87.701195        member  \n",
       "1  41.881859 -87.649264        member  \n",
       "2  41.938429 -87.698008        member  \n",
       "3  41.888243 -87.636390        member  \n",
       "4  41.920082 -87.677855        member  "
      ]
     },
     "execution_count": 4,
     "metadata": {},
     "output_type": "execute_result"
    }
   ],
   "source": [
    "apr_2025.head()"
   ]
  },
  {
   "cell_type": "code",
   "execution_count": 5,
   "metadata": {},
   "outputs": [],
   "source": [
    "past_year_data = [may_2024, jun_2024, jul_2024, aug_2024, sep_2024, oct_2024, nov_2024, dec_2024, jan_2025, feb_2025, mar_2025, apr_2025]"
   ]
  },
  {
   "cell_type": "code",
   "execution_count": 4,
   "metadata": {},
   "outputs": [
    {
     "ename": "TypeError",
     "evalue": "cannot concatenate object of type '<class 'str'>'; only Series and DataFrame objs are valid",
     "output_type": "error",
     "traceback": [
      "\u001b[31m---------------------------------------------------------------------------\u001b[39m",
      "\u001b[31mTypeError\u001b[39m                                 Traceback (most recent call last)",
      "\u001b[36mCell\u001b[39m\u001b[36m \u001b[39m\u001b[32mIn[4]\u001b[39m\u001b[32m, line 1\u001b[39m\n\u001b[32m----> \u001b[39m\u001b[32m1\u001b[39m cyclistic_past_year = \u001b[43mload_csvs\u001b[49m\u001b[43m(\u001b[49m\u001b[43m)\u001b[49m\n\u001b[32m      3\u001b[39m cyclistic_past_year.head(\u001b[32m10\u001b[39m)\n",
      "\u001b[36mFile \u001b[39m\u001b[32m~/Documents/Developer/Google-Capstone/cyclist-case-study/utils/file_helpers.py:23\u001b[39m, in \u001b[36mload_csvs\u001b[39m\u001b[34m()\u001b[39m\n\u001b[32m     18\u001b[39m \u001b[38;5;28;01mfor\u001b[39;00m date \u001b[38;5;129;01min\u001b[39;00m past_year_data:\n\u001b[32m     20\u001b[39m     date = pd.read_csv(\u001b[33mf\u001b[39m\u001b[33m\"\u001b[39m\u001b[33m/Users/kanghong/Documents/Developer/Google-Capstone/cyclist-case-study/data/\u001b[39m\u001b[38;5;132;01m{\u001b[39;00mpast_year_data[date]\u001b[38;5;132;01m}\u001b[39;00m\u001b[33m-divvy-tripdata.csv\u001b[39m\u001b[33m\"\u001b[39m)\n\u001b[32m---> \u001b[39m\u001b[32m23\u001b[39m \u001b[38;5;28;01mreturn\u001b[39;00m \u001b[43mpd\u001b[49m\u001b[43m.\u001b[49m\u001b[43mconcat\u001b[49m\u001b[43m(\u001b[49m\u001b[38;5;28;43mlist\u001b[39;49m\u001b[43m(\u001b[49m\u001b[43mpast_year_data\u001b[49m\u001b[43m)\u001b[49m\u001b[43m,\u001b[49m\u001b[43m \u001b[49m\u001b[43mignore_index\u001b[49m\u001b[43m=\u001b[49m\u001b[38;5;28;43;01mTrue\u001b[39;49;00m\u001b[43m)\u001b[49m\n",
      "\u001b[36mFile \u001b[39m\u001b[32m~/Documents/Developer/Google-Capstone/cyclist-case-study/googleCapstone-venv/lib/python3.13/site-packages/pandas/core/reshape/concat.py:382\u001b[39m, in \u001b[36mconcat\u001b[39m\u001b[34m(objs, axis, join, ignore_index, keys, levels, names, verify_integrity, sort, copy)\u001b[39m\n\u001b[32m    379\u001b[39m \u001b[38;5;28;01melif\u001b[39;00m copy \u001b[38;5;129;01mand\u001b[39;00m using_copy_on_write():\n\u001b[32m    380\u001b[39m     copy = \u001b[38;5;28;01mFalse\u001b[39;00m\n\u001b[32m--> \u001b[39m\u001b[32m382\u001b[39m op = \u001b[43m_Concatenator\u001b[49m\u001b[43m(\u001b[49m\n\u001b[32m    383\u001b[39m \u001b[43m    \u001b[49m\u001b[43mobjs\u001b[49m\u001b[43m,\u001b[49m\n\u001b[32m    384\u001b[39m \u001b[43m    \u001b[49m\u001b[43maxis\u001b[49m\u001b[43m=\u001b[49m\u001b[43maxis\u001b[49m\u001b[43m,\u001b[49m\n\u001b[32m    385\u001b[39m \u001b[43m    \u001b[49m\u001b[43mignore_index\u001b[49m\u001b[43m=\u001b[49m\u001b[43mignore_index\u001b[49m\u001b[43m,\u001b[49m\n\u001b[32m    386\u001b[39m \u001b[43m    \u001b[49m\u001b[43mjoin\u001b[49m\u001b[43m=\u001b[49m\u001b[43mjoin\u001b[49m\u001b[43m,\u001b[49m\n\u001b[32m    387\u001b[39m \u001b[43m    \u001b[49m\u001b[43mkeys\u001b[49m\u001b[43m=\u001b[49m\u001b[43mkeys\u001b[49m\u001b[43m,\u001b[49m\n\u001b[32m    388\u001b[39m \u001b[43m    \u001b[49m\u001b[43mlevels\u001b[49m\u001b[43m=\u001b[49m\u001b[43mlevels\u001b[49m\u001b[43m,\u001b[49m\n\u001b[32m    389\u001b[39m \u001b[43m    \u001b[49m\u001b[43mnames\u001b[49m\u001b[43m=\u001b[49m\u001b[43mnames\u001b[49m\u001b[43m,\u001b[49m\n\u001b[32m    390\u001b[39m \u001b[43m    \u001b[49m\u001b[43mverify_integrity\u001b[49m\u001b[43m=\u001b[49m\u001b[43mverify_integrity\u001b[49m\u001b[43m,\u001b[49m\n\u001b[32m    391\u001b[39m \u001b[43m    \u001b[49m\u001b[43mcopy\u001b[49m\u001b[43m=\u001b[49m\u001b[43mcopy\u001b[49m\u001b[43m,\u001b[49m\n\u001b[32m    392\u001b[39m \u001b[43m    \u001b[49m\u001b[43msort\u001b[49m\u001b[43m=\u001b[49m\u001b[43msort\u001b[49m\u001b[43m,\u001b[49m\n\u001b[32m    393\u001b[39m \u001b[43m\u001b[49m\u001b[43m)\u001b[49m\n\u001b[32m    395\u001b[39m \u001b[38;5;28;01mreturn\u001b[39;00m op.get_result()\n",
      "\u001b[36mFile \u001b[39m\u001b[32m~/Documents/Developer/Google-Capstone/cyclist-case-study/googleCapstone-venv/lib/python3.13/site-packages/pandas/core/reshape/concat.py:448\u001b[39m, in \u001b[36m_Concatenator.__init__\u001b[39m\u001b[34m(self, objs, axis, join, keys, levels, names, ignore_index, verify_integrity, copy, sort)\u001b[39m\n\u001b[32m    445\u001b[39m objs, keys = \u001b[38;5;28mself\u001b[39m._clean_keys_and_objs(objs, keys)\n\u001b[32m    447\u001b[39m \u001b[38;5;66;03m# figure out what our result ndim is going to be\u001b[39;00m\n\u001b[32m--> \u001b[39m\u001b[32m448\u001b[39m ndims = \u001b[38;5;28;43mself\u001b[39;49m\u001b[43m.\u001b[49m\u001b[43m_get_ndims\u001b[49m\u001b[43m(\u001b[49m\u001b[43mobjs\u001b[49m\u001b[43m)\u001b[49m\n\u001b[32m    449\u001b[39m sample, objs = \u001b[38;5;28mself\u001b[39m._get_sample_object(objs, ndims, keys, names, levels)\n\u001b[32m    451\u001b[39m \u001b[38;5;66;03m# Standardize axis parameter to int\u001b[39;00m\n",
      "\u001b[36mFile \u001b[39m\u001b[32m~/Documents/Developer/Google-Capstone/cyclist-case-study/googleCapstone-venv/lib/python3.13/site-packages/pandas/core/reshape/concat.py:489\u001b[39m, in \u001b[36m_Concatenator._get_ndims\u001b[39m\u001b[34m(self, objs)\u001b[39m\n\u001b[32m    484\u001b[39m     \u001b[38;5;28;01mif\u001b[39;00m \u001b[38;5;129;01mnot\u001b[39;00m \u001b[38;5;28misinstance\u001b[39m(obj, (ABCSeries, ABCDataFrame)):\n\u001b[32m    485\u001b[39m         msg = (\n\u001b[32m    486\u001b[39m             \u001b[33mf\u001b[39m\u001b[33m\"\u001b[39m\u001b[33mcannot concatenate object of type \u001b[39m\u001b[33m'\u001b[39m\u001b[38;5;132;01m{\u001b[39;00m\u001b[38;5;28mtype\u001b[39m(obj)\u001b[38;5;132;01m}\u001b[39;00m\u001b[33m'\u001b[39m\u001b[33m; \u001b[39m\u001b[33m\"\u001b[39m\n\u001b[32m    487\u001b[39m             \u001b[33m\"\u001b[39m\u001b[33monly Series and DataFrame objs are valid\u001b[39m\u001b[33m\"\u001b[39m\n\u001b[32m    488\u001b[39m         )\n\u001b[32m--> \u001b[39m\u001b[32m489\u001b[39m         \u001b[38;5;28;01mraise\u001b[39;00m \u001b[38;5;167;01mTypeError\u001b[39;00m(msg)\n\u001b[32m    491\u001b[39m     ndims.add(obj.ndim)\n\u001b[32m    492\u001b[39m \u001b[38;5;28;01mreturn\u001b[39;00m ndims\n",
      "\u001b[31mTypeError\u001b[39m: cannot concatenate object of type '<class 'str'>'; only Series and DataFrame objs are valid"
     ]
    }
   ],
   "source": [
    "cyclistic_past_year = load_csvs()\n",
    "\n",
    "cyclistic_past_year.head(10)"
   ]
  },
  {
   "cell_type": "code",
   "execution_count": 7,
   "metadata": {},
   "outputs": [
    {
     "data": {
      "text/plain": [
       "True"
      ]
     },
     "execution_count": 7,
     "metadata": {},
     "output_type": "execute_result"
    }
   ],
   "source": [
    "verifyConcat(past_year_data, cyclistic_past_year)"
   ]
  },
  {
   "cell_type": "markdown",
   "metadata": {},
   "source": [
    "## Data Cleaning"
   ]
  },
  {
   "cell_type": "markdown",
   "metadata": {},
   "source": [
    "### Handling Missing and Null values"
   ]
  },
  {
   "cell_type": "code",
   "execution_count": 8,
   "metadata": {},
   "outputs": [
    {
     "data": {
      "text/html": [
       "<div>\n",
       "<style scoped>\n",
       "    .dataframe tbody tr th:only-of-type {\n",
       "        vertical-align: middle;\n",
       "    }\n",
       "\n",
       "    .dataframe tbody tr th {\n",
       "        vertical-align: top;\n",
       "    }\n",
       "\n",
       "    .dataframe thead th {\n",
       "        text-align: right;\n",
       "    }\n",
       "</style>\n",
       "<table border=\"1\" class=\"dataframe\">\n",
       "  <thead>\n",
       "    <tr style=\"text-align: right;\">\n",
       "      <th></th>\n",
       "      <th>ride_id</th>\n",
       "      <th>rideable_type</th>\n",
       "      <th>started_at</th>\n",
       "      <th>ended_at</th>\n",
       "      <th>start_station_name</th>\n",
       "      <th>start_station_id</th>\n",
       "      <th>end_station_name</th>\n",
       "      <th>end_station_id</th>\n",
       "      <th>start_lat</th>\n",
       "      <th>start_lng</th>\n",
       "      <th>end_lat</th>\n",
       "      <th>end_lng</th>\n",
       "      <th>member_casual</th>\n",
       "    </tr>\n",
       "  </thead>\n",
       "  <tbody>\n",
       "    <tr>\n",
       "      <th>0</th>\n",
       "      <td>7D9F0CE9EC2A1297</td>\n",
       "      <td>classic_bike</td>\n",
       "      <td>2024-05-25 15:52:42</td>\n",
       "      <td>2024-05-25 16:11:50</td>\n",
       "      <td>Streeter Dr &amp; Grand Ave</td>\n",
       "      <td>13022</td>\n",
       "      <td>Clark St &amp; Elm St</td>\n",
       "      <td>TA1307000039</td>\n",
       "      <td>41.892278</td>\n",
       "      <td>-87.612043</td>\n",
       "      <td>41.902973</td>\n",
       "      <td>-87.631280</td>\n",
       "      <td>casual</td>\n",
       "    </tr>\n",
       "    <tr>\n",
       "      <th>1</th>\n",
       "      <td>02EC47687411416F</td>\n",
       "      <td>classic_bike</td>\n",
       "      <td>2024-05-14 15:11:51</td>\n",
       "      <td>2024-05-14 15:22:00</td>\n",
       "      <td>Sheridan Rd &amp; Greenleaf Ave</td>\n",
       "      <td>KA1504000159</td>\n",
       "      <td>Sheridan Rd &amp; Loyola Ave</td>\n",
       "      <td>RP-009</td>\n",
       "      <td>42.010587</td>\n",
       "      <td>-87.662412</td>\n",
       "      <td>42.001044</td>\n",
       "      <td>-87.661198</td>\n",
       "      <td>casual</td>\n",
       "    </tr>\n",
       "    <tr>\n",
       "      <th>2</th>\n",
       "      <td>101370FB2D3402BE</td>\n",
       "      <td>classic_bike</td>\n",
       "      <td>2024-05-30 17:46:04</td>\n",
       "      <td>2024-05-30 18:09:16</td>\n",
       "      <td>Streeter Dr &amp; Grand Ave</td>\n",
       "      <td>13022</td>\n",
       "      <td>Wabash Ave &amp; 9th St</td>\n",
       "      <td>TA1309000010</td>\n",
       "      <td>41.892278</td>\n",
       "      <td>-87.612043</td>\n",
       "      <td>41.870769</td>\n",
       "      <td>-87.625734</td>\n",
       "      <td>member</td>\n",
       "    </tr>\n",
       "    <tr>\n",
       "      <th>3</th>\n",
       "      <td>E97E396331ED6913</td>\n",
       "      <td>electric_bike</td>\n",
       "      <td>2024-05-17 20:21:54</td>\n",
       "      <td>2024-05-17 20:40:32</td>\n",
       "      <td>Streeter Dr &amp; Grand Ave</td>\n",
       "      <td>13022</td>\n",
       "      <td>Sheffield Ave &amp; Wellington Ave</td>\n",
       "      <td>TA1307000052</td>\n",
       "      <td>41.892270</td>\n",
       "      <td>-87.611946</td>\n",
       "      <td>41.936253</td>\n",
       "      <td>-87.652662</td>\n",
       "      <td>member</td>\n",
       "    </tr>\n",
       "    <tr>\n",
       "      <th>4</th>\n",
       "      <td>674EDE311C543165</td>\n",
       "      <td>classic_bike</td>\n",
       "      <td>2024-05-22 18:52:20</td>\n",
       "      <td>2024-05-22 18:59:04</td>\n",
       "      <td>Larrabee St &amp; Division St</td>\n",
       "      <td>KA1504000079</td>\n",
       "      <td>Clark St &amp; Elm St</td>\n",
       "      <td>TA1307000039</td>\n",
       "      <td>41.903486</td>\n",
       "      <td>-87.643353</td>\n",
       "      <td>41.902973</td>\n",
       "      <td>-87.631280</td>\n",
       "      <td>casual</td>\n",
       "    </tr>\n",
       "  </tbody>\n",
       "</table>\n",
       "</div>"
      ],
      "text/plain": [
       "            ride_id  rideable_type           started_at             ended_at  \\\n",
       "0  7D9F0CE9EC2A1297   classic_bike  2024-05-25 15:52:42  2024-05-25 16:11:50   \n",
       "1  02EC47687411416F   classic_bike  2024-05-14 15:11:51  2024-05-14 15:22:00   \n",
       "2  101370FB2D3402BE   classic_bike  2024-05-30 17:46:04  2024-05-30 18:09:16   \n",
       "3  E97E396331ED6913  electric_bike  2024-05-17 20:21:54  2024-05-17 20:40:32   \n",
       "4  674EDE311C543165   classic_bike  2024-05-22 18:52:20  2024-05-22 18:59:04   \n",
       "\n",
       "            start_station_name start_station_id  \\\n",
       "0      Streeter Dr & Grand Ave            13022   \n",
       "1  Sheridan Rd & Greenleaf Ave     KA1504000159   \n",
       "2      Streeter Dr & Grand Ave            13022   \n",
       "3      Streeter Dr & Grand Ave            13022   \n",
       "4    Larrabee St & Division St     KA1504000079   \n",
       "\n",
       "                 end_station_name end_station_id  start_lat  start_lng  \\\n",
       "0               Clark St & Elm St   TA1307000039  41.892278 -87.612043   \n",
       "1        Sheridan Rd & Loyola Ave         RP-009  42.010587 -87.662412   \n",
       "2             Wabash Ave & 9th St   TA1309000010  41.892278 -87.612043   \n",
       "3  Sheffield Ave & Wellington Ave   TA1307000052  41.892270 -87.611946   \n",
       "4               Clark St & Elm St   TA1307000039  41.903486 -87.643353   \n",
       "\n",
       "     end_lat    end_lng member_casual  \n",
       "0  41.902973 -87.631280        casual  \n",
       "1  42.001044 -87.661198        casual  \n",
       "2  41.870769 -87.625734        member  \n",
       "3  41.936253 -87.652662        member  \n",
       "4  41.902973 -87.631280        casual  "
      ]
     },
     "execution_count": 8,
     "metadata": {},
     "output_type": "execute_result"
    }
   ],
   "source": [
    "cyclistic_past_year.head()"
   ]
  },
  {
   "cell_type": "code",
   "execution_count": 9,
   "metadata": {},
   "outputs": [
    {
     "data": {
      "text/plain": [
       "{'ride_id': {'prop': 0.0, 'count': 0},\n",
       " 'rideable_type': {'prop': 0.0, 'count': 0},\n",
       " 'started_at': {'prop': 0.0, 'count': 0},\n",
       " 'ended_at': {'prop': 0.0, 'count': 0},\n",
       " 'start_station_name': {'prop': 18.961907179433894, 'count': 1087633},\n",
       " 'start_station_id': {'prop': 18.961907179433894, 'count': 1087633},\n",
       " 'end_station_name': {'prop': 19.457070610214572, 'count': 1116035},\n",
       " 'end_station_id': {'prop': 19.457070610214572, 'count': 1116035},\n",
       " 'start_lat': {'prop': 0.0, 'count': 0},\n",
       " 'start_lng': {'prop': 0.0, 'count': 0},\n",
       " 'end_lat': {'prop': 0.11156083351755369, 'count': 6399},\n",
       " 'end_lng': {'prop': 0.11156083351755369, 'count': 6399},\n",
       " 'member_casual': {'prop': 0.0, 'count': 0}}"
      ]
     },
     "execution_count": 9,
     "metadata": {},
     "output_type": "execute_result"
    }
   ],
   "source": [
    "nullProportions(cyclistic_past_year)"
   ]
  },
  {
   "cell_type": "code",
   "execution_count": 10,
   "metadata": {},
   "outputs": [
    {
     "data": {
      "text/plain": [
       "(0, 13)"
      ]
     },
     "execution_count": 10,
     "metadata": {},
     "output_type": "execute_result"
    }
   ],
   "source": [
    "cyclistic_past_year.loc[cyclistic_past_year.duplicated()].shape"
   ]
  },
  {
   "cell_type": "markdown",
   "metadata": {},
   "source": [
    "##### Shows that all rows with end_lat and end_long missing, are rows with end_station_name and end_station_id missing"
   ]
  },
  {
   "cell_type": "code",
   "execution_count": 11,
   "metadata": {},
   "outputs": [
    {
     "data": {
      "text/plain": [
       "6399"
      ]
     },
     "execution_count": 11,
     "metadata": {},
     "output_type": "execute_result"
    }
   ],
   "source": [
    "cyclistic_past_year.loc[cyclistic_past_year['end_lat'].isna() & \n",
    "                        cyclistic_past_year['end_lng'].isna() & \n",
    "                        cyclistic_past_year['end_station_name'].isna() &\n",
    "                        cyclistic_past_year['end_station_id'].isna()].shape[0]"
   ]
  },
  {
   "cell_type": "markdown",
   "metadata": {},
   "source": [
    "#### Rows with missing start and end stations, have corresponding IDs missing as well"
   ]
  },
  {
   "cell_type": "code",
   "execution_count": 12,
   "metadata": {},
   "outputs": [
    {
     "data": {
      "text/plain": [
       "np.True_"
      ]
     },
     "execution_count": 12,
     "metadata": {},
     "output_type": "execute_result"
    }
   ],
   "source": [
    "cyclistic_past_year.loc[cyclistic_past_year['start_station_name'].isna() & \n",
    "                        cyclistic_past_year['start_station_id'].isna()].shape[0] == cyclistic_past_year['start_station_name'].isna().sum()"
   ]
  },
  {
   "cell_type": "code",
   "execution_count": 13,
   "metadata": {},
   "outputs": [
    {
     "data": {
      "text/plain": [
       "np.True_"
      ]
     },
     "execution_count": 13,
     "metadata": {},
     "output_type": "execute_result"
    }
   ],
   "source": [
    "cyclistic_past_year.loc[cyclistic_past_year['end_station_name'].isna() & \n",
    "                        cyclistic_past_year['end_station_id'].isna()].shape[0] == cyclistic_past_year['end_station_name'].isna().sum()"
   ]
  },
  {
   "cell_type": "markdown",
   "metadata": {},
   "source": [
    "#### Drop rows with missing end latitudes and longitudes, since they are rows missing both station names and ids  "
   ]
  },
  {
   "cell_type": "code",
   "execution_count": 14,
   "metadata": {},
   "outputs": [],
   "source": [
    "cyclistic_past_year.dropna(subset=['end_lat', 'end_lng'], inplace=True)"
   ]
  },
  {
   "cell_type": "markdown",
   "metadata": {},
   "source": [
    "#### Drop start and end station ids"
   ]
  },
  {
   "cell_type": "code",
   "execution_count": 15,
   "metadata": {},
   "outputs": [],
   "source": [
    "cyclistic_past_year.drop(['start_station_id', 'end_station_id'], inplace=True, axis=1)"
   ]
  },
  {
   "cell_type": "code",
   "execution_count": 16,
   "metadata": {},
   "outputs": [
    {
     "data": {
      "text/plain": [
       "{'ride_id': {'prop': 0.0, 'count': 0},\n",
       " 'rideable_type': {'prop': 0.0, 'count': 0},\n",
       " 'started_at': {'prop': 0.0, 'count': 0},\n",
       " 'ended_at': {'prop': 0.0, 'count': 0},\n",
       " 'start_station_name': {'prop': 18.98308486713902, 'count': 1087633},\n",
       " 'end_station_name': {'prop': 19.367115892615132, 'count': 1109636},\n",
       " 'start_lat': {'prop': 0.0, 'count': 0},\n",
       " 'start_lng': {'prop': 0.0, 'count': 0},\n",
       " 'end_lat': {'prop': 0.0, 'count': 0},\n",
       " 'end_lng': {'prop': 0.0, 'count': 0},\n",
       " 'member_casual': {'prop': 0.0, 'count': 0}}"
      ]
     },
     "execution_count": 16,
     "metadata": {},
     "output_type": "execute_result"
    }
   ],
   "source": [
    "nullProportions(cyclistic_past_year)"
   ]
  },
  {
   "cell_type": "markdown",
   "metadata": {},
   "source": [
    "### Data Transformation"
   ]
  },
  {
   "cell_type": "code",
   "execution_count": 17,
   "metadata": {},
   "outputs": [],
   "source": [
    "cyclistic_past_year = format_latlon(cyclistic_past_year)\n"
   ]
  },
  {
   "cell_type": "markdown",
   "metadata": {},
   "source": [
    "#### Imputation of missing station names"
   ]
  },
  {
   "cell_type": "code",
   "execution_count": 18,
   "metadata": {},
   "outputs": [
    {
     "data": {
      "text/html": [
       "<div>\n",
       "<style scoped>\n",
       "    .dataframe tbody tr th:only-of-type {\n",
       "        vertical-align: middle;\n",
       "    }\n",
       "\n",
       "    .dataframe tbody tr th {\n",
       "        vertical-align: top;\n",
       "    }\n",
       "\n",
       "    .dataframe thead th {\n",
       "        text-align: right;\n",
       "    }\n",
       "</style>\n",
       "<table border=\"1\" class=\"dataframe\">\n",
       "  <thead>\n",
       "    <tr style=\"text-align: right;\">\n",
       "      <th></th>\n",
       "      <th>ride_id</th>\n",
       "      <th>rideable_type</th>\n",
       "      <th>started_at</th>\n",
       "      <th>ended_at</th>\n",
       "      <th>start_station_name</th>\n",
       "      <th>end_station_name</th>\n",
       "      <th>start_lat</th>\n",
       "      <th>start_lng</th>\n",
       "      <th>end_lat</th>\n",
       "      <th>end_lng</th>\n",
       "      <th>member_casual</th>\n",
       "    </tr>\n",
       "  </thead>\n",
       "  <tbody>\n",
       "    <tr>\n",
       "      <th>0</th>\n",
       "      <td>7D9F0CE9EC2A1297</td>\n",
       "      <td>classic_bike</td>\n",
       "      <td>2024-05-25 15:52:42</td>\n",
       "      <td>2024-05-25 16:11:50</td>\n",
       "      <td>Streeter Dr &amp; Grand Ave</td>\n",
       "      <td>Clark St &amp; Elm St</td>\n",
       "      <td>41.89228</td>\n",
       "      <td>-87.61204</td>\n",
       "      <td>41.90297</td>\n",
       "      <td>-87.63128</td>\n",
       "      <td>casual</td>\n",
       "    </tr>\n",
       "    <tr>\n",
       "      <th>1</th>\n",
       "      <td>02EC47687411416F</td>\n",
       "      <td>classic_bike</td>\n",
       "      <td>2024-05-14 15:11:51</td>\n",
       "      <td>2024-05-14 15:22:00</td>\n",
       "      <td>Sheridan Rd &amp; Greenleaf Ave</td>\n",
       "      <td>Sheridan Rd &amp; Loyola Ave</td>\n",
       "      <td>42.01059</td>\n",
       "      <td>-87.66241</td>\n",
       "      <td>42.00104</td>\n",
       "      <td>-87.66120</td>\n",
       "      <td>casual</td>\n",
       "    </tr>\n",
       "    <tr>\n",
       "      <th>2</th>\n",
       "      <td>101370FB2D3402BE</td>\n",
       "      <td>classic_bike</td>\n",
       "      <td>2024-05-30 17:46:04</td>\n",
       "      <td>2024-05-30 18:09:16</td>\n",
       "      <td>Streeter Dr &amp; Grand Ave</td>\n",
       "      <td>Wabash Ave &amp; 9th St</td>\n",
       "      <td>41.89228</td>\n",
       "      <td>-87.61204</td>\n",
       "      <td>41.87077</td>\n",
       "      <td>-87.62573</td>\n",
       "      <td>member</td>\n",
       "    </tr>\n",
       "    <tr>\n",
       "      <th>3</th>\n",
       "      <td>E97E396331ED6913</td>\n",
       "      <td>electric_bike</td>\n",
       "      <td>2024-05-17 20:21:54</td>\n",
       "      <td>2024-05-17 20:40:32</td>\n",
       "      <td>Streeter Dr &amp; Grand Ave</td>\n",
       "      <td>Sheffield Ave &amp; Wellington Ave</td>\n",
       "      <td>41.89227</td>\n",
       "      <td>-87.61195</td>\n",
       "      <td>41.93625</td>\n",
       "      <td>-87.65266</td>\n",
       "      <td>member</td>\n",
       "    </tr>\n",
       "    <tr>\n",
       "      <th>4</th>\n",
       "      <td>674EDE311C543165</td>\n",
       "      <td>classic_bike</td>\n",
       "      <td>2024-05-22 18:52:20</td>\n",
       "      <td>2024-05-22 18:59:04</td>\n",
       "      <td>Larrabee St &amp; Division St</td>\n",
       "      <td>Clark St &amp; Elm St</td>\n",
       "      <td>41.90349</td>\n",
       "      <td>-87.64335</td>\n",
       "      <td>41.90297</td>\n",
       "      <td>-87.63128</td>\n",
       "      <td>casual</td>\n",
       "    </tr>\n",
       "  </tbody>\n",
       "</table>\n",
       "</div>"
      ],
      "text/plain": [
       "            ride_id  rideable_type           started_at             ended_at  \\\n",
       "0  7D9F0CE9EC2A1297   classic_bike  2024-05-25 15:52:42  2024-05-25 16:11:50   \n",
       "1  02EC47687411416F   classic_bike  2024-05-14 15:11:51  2024-05-14 15:22:00   \n",
       "2  101370FB2D3402BE   classic_bike  2024-05-30 17:46:04  2024-05-30 18:09:16   \n",
       "3  E97E396331ED6913  electric_bike  2024-05-17 20:21:54  2024-05-17 20:40:32   \n",
       "4  674EDE311C543165   classic_bike  2024-05-22 18:52:20  2024-05-22 18:59:04   \n",
       "\n",
       "            start_station_name                end_station_name  start_lat  \\\n",
       "0      Streeter Dr & Grand Ave               Clark St & Elm St   41.89228   \n",
       "1  Sheridan Rd & Greenleaf Ave        Sheridan Rd & Loyola Ave   42.01059   \n",
       "2      Streeter Dr & Grand Ave             Wabash Ave & 9th St   41.89228   \n",
       "3      Streeter Dr & Grand Ave  Sheffield Ave & Wellington Ave   41.89227   \n",
       "4    Larrabee St & Division St               Clark St & Elm St   41.90349   \n",
       "\n",
       "   start_lng   end_lat   end_lng member_casual  \n",
       "0  -87.61204  41.90297 -87.63128        casual  \n",
       "1  -87.66241  42.00104 -87.66120        casual  \n",
       "2  -87.61204  41.87077 -87.62573        member  \n",
       "3  -87.61195  41.93625 -87.65266        member  \n",
       "4  -87.64335  41.90297 -87.63128        casual  "
      ]
     },
     "execution_count": 18,
     "metadata": {},
     "output_type": "execute_result"
    }
   ],
   "source": [
    "cyclistic_past_year.head()"
   ]
  },
  {
   "cell_type": "code",
   "execution_count": 19,
   "metadata": {},
   "outputs": [],
   "source": [
    "null_start_stations = cyclistic_past_year.loc[cyclistic_past_year['start_station_name'].isna()]\n",
    "\n",
    "null_end_stations = cyclistic_past_year.loc[cyclistic_past_year['end_station_name'].isna()]\n"
   ]
  },
  {
   "cell_type": "code",
   "execution_count": null,
   "metadata": {},
   "outputs": [],
   "source": [
    "# null_start_stations = reverse_geocode(null_start_stations, type='start')"
   ]
  },
  {
   "cell_type": "code",
   "execution_count": 30,
   "metadata": {},
   "outputs": [
    {
     "data": {
      "text/html": [
       "<div>\n",
       "<style scoped>\n",
       "    .dataframe tbody tr th:only-of-type {\n",
       "        vertical-align: middle;\n",
       "    }\n",
       "\n",
       "    .dataframe tbody tr th {\n",
       "        vertical-align: top;\n",
       "    }\n",
       "\n",
       "    .dataframe thead th {\n",
       "        text-align: right;\n",
       "    }\n",
       "</style>\n",
       "<table border=\"1\" class=\"dataframe\">\n",
       "  <thead>\n",
       "    <tr style=\"text-align: right;\">\n",
       "      <th></th>\n",
       "      <th>ride_id</th>\n",
       "      <th>rideable_type</th>\n",
       "      <th>started_at</th>\n",
       "      <th>ended_at</th>\n",
       "      <th>start_station_name</th>\n",
       "      <th>end_station_name</th>\n",
       "      <th>start_lat</th>\n",
       "      <th>start_lng</th>\n",
       "      <th>end_lat</th>\n",
       "      <th>end_lng</th>\n",
       "      <th>member_casual</th>\n",
       "    </tr>\n",
       "  </thead>\n",
       "  <tbody>\n",
       "    <tr>\n",
       "      <th>30</th>\n",
       "      <td>23F3EB3F132247AF</td>\n",
       "      <td>electric_bike</td>\n",
       "      <td>2024-05-25 11:25:00</td>\n",
       "      <td>2024-05-25 11:45:06</td>\n",
       "      <td>Ashland Ave &amp; Augusta Blvd</td>\n",
       "      <td>NaN</td>\n",
       "      <td>41.90</td>\n",
       "      <td>-87.67</td>\n",
       "      <td>41.96</td>\n",
       "      <td>-87.67</td>\n",
       "      <td>member</td>\n",
       "    </tr>\n",
       "    <tr>\n",
       "      <th>31</th>\n",
       "      <td>F827FB28C407688B</td>\n",
       "      <td>electric_bike</td>\n",
       "      <td>2024-05-18 09:55:23</td>\n",
       "      <td>2024-05-18 10:04:10</td>\n",
       "      <td>Southport Ave &amp; Irving Park Rd</td>\n",
       "      <td>NaN</td>\n",
       "      <td>41.95</td>\n",
       "      <td>-87.66</td>\n",
       "      <td>41.94</td>\n",
       "      <td>-87.65</td>\n",
       "      <td>member</td>\n",
       "    </tr>\n",
       "    <tr>\n",
       "      <th>32</th>\n",
       "      <td>2BA9D1DE60628E21</td>\n",
       "      <td>electric_bike</td>\n",
       "      <td>2024-05-22 16:49:29</td>\n",
       "      <td>2024-05-22 17:04:01</td>\n",
       "      <td>Halsted St &amp; Wrightwood Ave</td>\n",
       "      <td>NaN</td>\n",
       "      <td>41.93</td>\n",
       "      <td>-87.65</td>\n",
       "      <td>41.89</td>\n",
       "      <td>-87.62</td>\n",
       "      <td>member</td>\n",
       "    </tr>\n",
       "    <tr>\n",
       "      <th>33</th>\n",
       "      <td>A552FCD82B19540F</td>\n",
       "      <td>electric_bike</td>\n",
       "      <td>2024-05-16 16:55:54</td>\n",
       "      <td>2024-05-16 17:24:17</td>\n",
       "      <td>Halsted St &amp; Wrightwood Ave</td>\n",
       "      <td>NaN</td>\n",
       "      <td>41.93</td>\n",
       "      <td>-87.65</td>\n",
       "      <td>42.00</td>\n",
       "      <td>-87.66</td>\n",
       "      <td>member</td>\n",
       "    </tr>\n",
       "    <tr>\n",
       "      <th>34</th>\n",
       "      <td>A3A29458EC398EE4</td>\n",
       "      <td>electric_bike</td>\n",
       "      <td>2024-05-21 17:44:13</td>\n",
       "      <td>2024-05-21 17:53:43</td>\n",
       "      <td>Sheffield Ave &amp; Webster Ave</td>\n",
       "      <td>NaN</td>\n",
       "      <td>41.92</td>\n",
       "      <td>-87.65</td>\n",
       "      <td>41.93</td>\n",
       "      <td>-87.64</td>\n",
       "      <td>member</td>\n",
       "    </tr>\n",
       "  </tbody>\n",
       "</table>\n",
       "</div>"
      ],
      "text/plain": [
       "             ride_id  rideable_type           started_at             ended_at  \\\n",
       "30  23F3EB3F132247AF  electric_bike  2024-05-25 11:25:00  2024-05-25 11:45:06   \n",
       "31  F827FB28C407688B  electric_bike  2024-05-18 09:55:23  2024-05-18 10:04:10   \n",
       "32  2BA9D1DE60628E21  electric_bike  2024-05-22 16:49:29  2024-05-22 17:04:01   \n",
       "33  A552FCD82B19540F  electric_bike  2024-05-16 16:55:54  2024-05-16 17:24:17   \n",
       "34  A3A29458EC398EE4  electric_bike  2024-05-21 17:44:13  2024-05-21 17:53:43   \n",
       "\n",
       "                start_station_name end_station_name  start_lat  start_lng  \\\n",
       "30      Ashland Ave & Augusta Blvd              NaN      41.90     -87.67   \n",
       "31  Southport Ave & Irving Park Rd              NaN      41.95     -87.66   \n",
       "32     Halsted St & Wrightwood Ave              NaN      41.93     -87.65   \n",
       "33     Halsted St & Wrightwood Ave              NaN      41.93     -87.65   \n",
       "34     Sheffield Ave & Webster Ave              NaN      41.92     -87.65   \n",
       "\n",
       "    end_lat  end_lng member_casual  \n",
       "30    41.96   -87.67        member  \n",
       "31    41.94   -87.65        member  \n",
       "32    41.89   -87.62        member  \n",
       "33    42.00   -87.66        member  \n",
       "34    41.93   -87.64        member  "
      ]
     },
     "execution_count": 30,
     "metadata": {},
     "output_type": "execute_result"
    }
   ],
   "source": [
    "null_end_stations.head()"
   ]
  },
  {
   "cell_type": "code",
   "execution_count": 31,
   "metadata": {},
   "outputs": [],
   "source": [
    "from geopy.geocoders import Nominatim\n",
    "import time"
   ]
  },
  {
   "cell_type": "code",
   "execution_count": 38,
   "metadata": {},
   "outputs": [
    {
     "name": "stdout",
     "output_type": "stream",
     "text": [
      "Augusta & Paulina Auto Repair, 1700, West Augusta Boulevard, East Village, West Town, Chicago, West Chicago Township, Cook County, Illinois, 60622, United States\n"
     ]
    }
   ],
   "source": [
    "geolocator = Nominatim(user_agent=\"cyclistic_project\")\n",
    "location = geolocator.reverse((41.89228, -87.61204), exactly_one=True)\n",
    "time.sleep(1.0)\n",
    "print(location.address)\n"
   ]
  },
  {
   "cell_type": "code",
   "execution_count": 33,
   "metadata": {},
   "outputs": [
    {
     "data": {
      "text/plain": [
       "'3'"
      ]
     },
     "execution_count": 33,
     "metadata": {},
     "output_type": "execute_result"
    }
   ],
   "source": [
    "location.address[1]"
   ]
  },
  {
   "cell_type": "code",
   "execution_count": 34,
   "metadata": {},
   "outputs": [],
   "source": [
    "import re"
   ]
  },
  {
   "cell_type": "code",
   "execution_count": 35,
   "metadata": {},
   "outputs": [],
   "source": [
    "street_pattern = re.compile(r\"([^,]+),\\s+([^,]+),\\s+([^,]+)\")\n",
    "match = street_pattern.search(location.address)\n",
    "        \n",
    "if match:\n",
    "    # Extract the first two street names\n",
    "    street1 = match.group(1)\n",
    "    street2 = match.group(2)\n",
    "    \n",
    "    # Format the intersection\n",
    "    intersection = f\"{street1} & {street2}\""
   ]
  },
  {
   "cell_type": "code",
   "execution_count": 36,
   "metadata": {},
   "outputs": [
    {
     "data": {
      "text/plain": [
       "'4301-4303 & North Paulina Street'"
      ]
     },
     "execution_count": 36,
     "metadata": {},
     "output_type": "execute_result"
    }
   ],
   "source": [
    "intersection"
   ]
  },
  {
   "cell_type": "code",
   "execution_count": null,
   "metadata": {},
   "outputs": [],
   "source": []
  }
 ],
 "metadata": {
  "kernelspec": {
   "display_name": "googleCapstone-venv",
   "language": "python",
   "name": "python3"
  },
  "language_info": {
   "codemirror_mode": {
    "name": "ipython",
    "version": 3
   },
   "file_extension": ".py",
   "mimetype": "text/x-python",
   "name": "python",
   "nbconvert_exporter": "python",
   "pygments_lexer": "ipython3",
   "version": "3.13.3"
  }
 },
 "nbformat": 4,
 "nbformat_minor": 2
}
